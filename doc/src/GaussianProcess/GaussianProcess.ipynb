{
 "cells": [
  {
   "cell_type": "markdown",
   "metadata": {},
   "source": [
    "<!-- dom:TITLE: Data Analysis and Machine Learning: Machine learning with Gaussian Processes -->\n",
    "# Data Analysis and Machine Learning: Machine learning with Gaussian Processes\n",
    "<!-- dom:AUTHOR: Christian Forssén at Department of Physics, Chalmers University of Technology, Sweden -->\n",
    "<!-- Author: -->  \n",
    "**Christian Forssén**, Department of Physics, Chalmers University of Technology, Sweden  \n",
    "<!-- dom:AUTHOR: Morten Hjorth-Jensen at Department of Physics, University of Oslo & Department of Physics and Astronomy and National Superconducting Cyclotron Laboratory, Michigan State University -->\n",
    "<!-- Author: --> **Morten Hjorth-Jensen**, Department of Physics, University of Oslo and Department of Physics and Astronomy and National Superconducting Cyclotron Laboratory, Michigan State University\n",
    "\n",
    "Date: **Mar 19, 2018**\n",
    "\n",
    "Copyright 1999-2018, Morten Hjorth-Jensen. Released under CC Attribution-NonCommercial 4.0 license\n",
    "\n",
    "\n",
    "\n",
    "## What is a Gaussian Process?\n",
    "\n",
    "* We have considered splines and kernel regression methods. These\n",
    "\n",
    "require choice of somewhat arbitrary set of knots.\n",
    "\n",
    "* Antoher possibility is to setup a prior distribution for the\n",
    "  regression function using a *Gaussian Process*.\n",
    "\n",
    "* This is a very flexible class of models that has distinct computational\n",
    "  and theoretical advantages. It can be viewed as a potentially\n",
    "  infinite-dimensional generalization of Gaussian distributions.\n",
    "\n",
    "* See the excellent (and free) book [Gaussian Processes for Machine\n",
    "  Learning](http://www.gaussianprocess.org/gpml/) by Carl Edward\n",
    "  Rasmussen and Christopher K. I. Williams. \n",
    "\n",
    "## Gaussian process regression\n",
    "\n",
    "* Realizations from a Gaussian process correspond to random functions\n",
    "\n",
    "* Let us first consider an unknown regression function $\\mu(x)$ that\n",
    "  depends on a single, continuous variable $x$.\n",
    "\n",
    "* The Gaussian process is written as $\\mu \\sim \\mathrm{GP}(m,k)$, and\n",
    "  is parametrized in terms of a mean function $m(x)$ and a covariance\n",
    "  function $k(x,x')$.\n",
    "\n",
    "* The GP prior on $\\mu$ describes it as a random function for which\n",
    "  the values at any set of $N$ prespecified points $\\{x_i\\}_{i=1}^N$\n",
    "  are a draw from a $N$-dimensional normal distribution"
   ]
  },
  {
   "cell_type": "markdown",
   "metadata": {},
   "source": [
    "$$\n",
    "$$\n",
    "  \\mu(x_1), \\ldots \\mu(x_N) \\sim \\mathrm{N}\\left( \\left( m(x_1),\n",
    "  \\ldots, m(x_N) \\right), K(x_1, \\ldots, x_N) \\right),\n",
    "$$\n",
    "$$"
   ]
  },
  {
   "cell_type": "markdown",
   "metadata": {},
   "source": [
    "with mean $m$ and covariance $K$.\n",
    "\n",
    "## Topics\n",
    "* More matematical details\n",
    "\n",
    "* The role of the covariance function (different kernels)\n",
    "\n",
    "* multidimensional case\n",
    "\n",
    "* examples."
   ]
  }
 ],
 "metadata": {},
 "nbformat": 4,
 "nbformat_minor": 0
}
