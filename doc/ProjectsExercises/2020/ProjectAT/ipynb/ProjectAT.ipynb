{
 "cells": [
  {
   "cell_type": "markdown",
   "metadata": {},
   "source": [
    "<!-- dom:TITLE: Analysis of Active Target Experiments -->\n",
    "# Analysis of Active Target Experiments\n",
    "<!-- dom:AUTHOR: Data Analysis and Machine Learning for Nuclear Physics -->\n",
    "<!-- Author: -->  \n",
    "**Data Analysis and Machine Learning for Nuclear Physics**\n",
    "\n",
    "Date: **Jul 6, 2020**\n",
    "\n",
    "## Introduction"
   ]
  }
 ],
 "metadata": {},
 "nbformat": 4,
 "nbformat_minor": 2
}
